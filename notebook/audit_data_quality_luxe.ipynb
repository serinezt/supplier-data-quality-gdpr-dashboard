{
 "cells": [
  {
   "cell_type": "markdown",
   "id": "c7fa7f9f",
   "metadata": {},
   "source": [
    "#  Audit de Qualité des Données Fournisseurs – Maison de Luxe\n",
    "# Supplier Data Quality Audit – Luxury House\n",
    "\n",
    "\n",
    "This notebook performs a data quality audit on a fictitious supplier repository used in the luxury industry.\n",
    "Ce notebook réalise un audit de qualité des données sur un référentiel fournisseurs fictif utilisé dans l’industrie du luxe."
   ]
  },
  {
   "cell_type": "code",
   "execution_count": 2,
   "id": "12d666aa",
   "metadata": {},
   "outputs": [
    {
     "data": {
      "text/html": [
       "<div>\n",
       "<style scoped>\n",
       "    .dataframe tbody tr th:only-of-type {\n",
       "        vertical-align: middle;\n",
       "    }\n",
       "\n",
       "    .dataframe tbody tr th {\n",
       "        vertical-align: top;\n",
       "    }\n",
       "\n",
       "    .dataframe thead th {\n",
       "        text-align: right;\n",
       "    }\n",
       "</style>\n",
       "<table border=\"1\" class=\"dataframe\">\n",
       "  <thead>\n",
       "    <tr style=\"text-align: right;\">\n",
       "      <th></th>\n",
       "      <th>Supplier_ID</th>\n",
       "      <th>Name</th>\n",
       "      <th>Country</th>\n",
       "      <th>VAT_Number</th>\n",
       "      <th>Email</th>\n",
       "      <th>Contract_Type</th>\n",
       "      <th>Creation_Date</th>\n",
       "      <th>Compliance_RGPD</th>\n",
       "      <th>Status</th>\n",
       "    </tr>\n",
       "  </thead>\n",
       "  <tbody>\n",
       "    <tr>\n",
       "      <th>0</th>\n",
       "      <td>SUPP0329</td>\n",
       "      <td>Johnston-Simmons</td>\n",
       "      <td>Japan</td>\n",
       "      <td>IX72476051</td>\n",
       "      <td>ryan29@hotmail.com</td>\n",
       "      <td>Logistics</td>\n",
       "      <td>2021-09-26</td>\n",
       "      <td>No</td>\n",
       "      <td>Active</td>\n",
       "    </tr>\n",
       "    <tr>\n",
       "      <th>1</th>\n",
       "      <td>SUPP0466</td>\n",
       "      <td>Gonzalez-Clark</td>\n",
       "      <td>United Kingdom</td>\n",
       "      <td>lR81988776</td>\n",
       "      <td>yward@herrera-nelson.com</td>\n",
       "      <td>Logistics</td>\n",
       "      <td>2016-09-09</td>\n",
       "      <td>Yes</td>\n",
       "      <td>Inactive</td>\n",
       "    </tr>\n",
       "    <tr>\n",
       "      <th>2</th>\n",
       "      <td>SUPP0984</td>\n",
       "      <td>Haley, Nelson and Vargas</td>\n",
       "      <td>Switzerland</td>\n",
       "      <td>NaN</td>\n",
       "      <td>ajackson@hotmail.com</td>\n",
       "      <td>Distribution</td>\n",
       "      <td>2022-12-07</td>\n",
       "      <td>Yes</td>\n",
       "      <td>Inactive</td>\n",
       "    </tr>\n",
       "    <tr>\n",
       "      <th>3</th>\n",
       "      <td>SUPP0574</td>\n",
       "      <td>Perkins-Flores</td>\n",
       "      <td>UAE</td>\n",
       "      <td>Ty79940127</td>\n",
       "      <td>howardpaul@smith.com</td>\n",
       "      <td>Logistics</td>\n",
       "      <td>2024-01-10</td>\n",
       "      <td>Yes</td>\n",
       "      <td>Inactive</td>\n",
       "    </tr>\n",
       "    <tr>\n",
       "      <th>4</th>\n",
       "      <td>SUPP0412</td>\n",
       "      <td>Johnson-Chen</td>\n",
       "      <td>UAE</td>\n",
       "      <td>Cd18104584</td>\n",
       "      <td>kjones@gmail.com</td>\n",
       "      <td>Consulting</td>\n",
       "      <td>2022-03-16</td>\n",
       "      <td>Yes</td>\n",
       "      <td>Inactive</td>\n",
       "    </tr>\n",
       "  </tbody>\n",
       "</table>\n",
       "</div>"
      ],
      "text/plain": [
       "  Supplier_ID                      Name         Country  VAT_Number  \\\n",
       "0    SUPP0329          Johnston-Simmons           Japan  IX72476051   \n",
       "1    SUPP0466            Gonzalez-Clark  United Kingdom  lR81988776   \n",
       "2    SUPP0984  Haley, Nelson and Vargas     Switzerland         NaN   \n",
       "3    SUPP0574            Perkins-Flores             UAE  Ty79940127   \n",
       "4    SUPP0412              Johnson-Chen             UAE  Cd18104584   \n",
       "\n",
       "                      Email Contract_Type Creation_Date Compliance_RGPD  \\\n",
       "0        ryan29@hotmail.com     Logistics    2021-09-26              No   \n",
       "1  yward@herrera-nelson.com     Logistics    2016-09-09             Yes   \n",
       "2      ajackson@hotmail.com  Distribution    2022-12-07             Yes   \n",
       "3      howardpaul@smith.com     Logistics    2024-01-10             Yes   \n",
       "4          kjones@gmail.com    Consulting    2022-03-16             Yes   \n",
       "\n",
       "     Status  \n",
       "0    Active  \n",
       "1  Inactive  \n",
       "2  Inactive  \n",
       "3  Inactive  \n",
       "4  Inactive  "
      ]
     },
     "execution_count": 2,
     "metadata": {},
     "output_type": "execute_result"
    }
   ],
   "source": [
    "import pandas as pd\n",
    "\n",
    "df = pd.read_csv(\"supplier_master_data_luxe.csv\")\n",
    "df.head()"
   ]
  },
  {
   "cell_type": "markdown",
   "id": "287c179e",
   "metadata": {},
   "source": [
    "## 1. Analyse de complétude - Completeness analysis"
   ]
  },
  {
   "cell_type": "code",
   "execution_count": 3,
   "id": "c4e29586",
   "metadata": {},
   "outputs": [
    {
     "data": {
      "text/plain": [
       "Supplier_ID    0.000000\n",
       "Name           0.000000\n",
       "Country        0.000000\n",
       "VAT_Number     4.757282\n",
       "Email          0.000000\n",
       "dtype: float64"
      ]
     },
     "execution_count": 3,
     "metadata": {},
     "output_type": "execute_result"
    }
   ],
   "source": [
    "# Checking critical fields\n",
    "completude = df[['Supplier_ID', 'Name', 'Country', 'VAT_Number', 'Email']].isnull().mean() * 100\n",
    "completude"
   ]
  },
  {
   "cell_type": "markdown",
   "id": "85320ac0",
   "metadata": {},
   "source": [
    "## 2. Détection des valeurs invalides - Detection of invalid values"
   ]
  },
  {
   "cell_type": "code",
   "execution_count": 7,
   "id": "bb431040",
   "metadata": {},
   "outputs": [
    {
     "name": "stdout",
     "output_type": "stream",
     "text": [
      "Invalid emails : 67\n"
     ]
    }
   ],
   "source": [
    "# Invalid emails\n",
    "df['Email_Valid'] = df['Email'].str.contains(r'^[\\w\\.-]+@[\\w\\.-]+\\.\\w+$')\n",
    "invalid_emails = df[~df['Email_Valid']]\n",
    "print(f\"Invalid emails : {len(invalid_emails)}\")"
   ]
  },
  {
   "cell_type": "code",
   "execution_count": 8,
   "id": "6e9e94e5",
   "metadata": {},
   "outputs": [
    {
     "name": "stdout",
     "output_type": "stream",
     "text": [
      "Missing VAT : 49\n"
     ]
    }
   ],
   "source": [
    "# Missing VAT\n",
    "vat_missing = df[df['VAT_Number'].isnull() | (df['VAT_Number'] == '')]\n",
    "print(f\"Missing VAT : {len(vat_missing)}\")"
   ]
  },
  {
   "cell_type": "code",
   "execution_count": 9,
   "id": "05314cf3",
   "metadata": {},
   "outputs": [
    {
     "name": "stdout",
     "output_type": "stream",
     "text": [
      "Detected duplicates : 20\n"
     ]
    }
   ],
   "source": [
    "# Duplicates\n",
    "duplicates = df.duplicated(subset=['Name', 'Country', 'VAT_Number'])\n",
    "print(f\"Detected duplicates : {duplicates.sum()}\")"
   ]
  },
  {
   "cell_type": "markdown",
   "id": "f7c71c94",
   "metadata": {},
   "source": [
    "## 3. Score de qualité des données - Data quality score"
   ]
  },
  {
   "cell_type": "code",
   "execution_count": 10,
   "id": "c92e1f5c",
   "metadata": {},
   "outputs": [
    {
     "data": {
      "text/html": [
       "<div>\n",
       "<style scoped>\n",
       "    .dataframe tbody tr th:only-of-type {\n",
       "        vertical-align: middle;\n",
       "    }\n",
       "\n",
       "    .dataframe tbody tr th {\n",
       "        vertical-align: top;\n",
       "    }\n",
       "\n",
       "    .dataframe thead th {\n",
       "        text-align: right;\n",
       "    }\n",
       "</style>\n",
       "<table border=\"1\" class=\"dataframe\">\n",
       "  <thead>\n",
       "    <tr style=\"text-align: right;\">\n",
       "      <th></th>\n",
       "      <th>Supplier_ID</th>\n",
       "      <th>Data_Quality_Score</th>\n",
       "    </tr>\n",
       "  </thead>\n",
       "  <tbody>\n",
       "    <tr>\n",
       "      <th>0</th>\n",
       "      <td>SUPP0329</td>\n",
       "      <td>50</td>\n",
       "    </tr>\n",
       "    <tr>\n",
       "      <th>1</th>\n",
       "      <td>SUPP0466</td>\n",
       "      <td>75</td>\n",
       "    </tr>\n",
       "    <tr>\n",
       "      <th>2</th>\n",
       "      <td>SUPP0984</td>\n",
       "      <td>50</td>\n",
       "    </tr>\n",
       "    <tr>\n",
       "      <th>3</th>\n",
       "      <td>SUPP0574</td>\n",
       "      <td>75</td>\n",
       "    </tr>\n",
       "    <tr>\n",
       "      <th>4</th>\n",
       "      <td>SUPP0412</td>\n",
       "      <td>75</td>\n",
       "    </tr>\n",
       "  </tbody>\n",
       "</table>\n",
       "</div>"
      ],
      "text/plain": [
       "  Supplier_ID  Data_Quality_Score\n",
       "0    SUPP0329                  50\n",
       "1    SUPP0466                  75\n",
       "2    SUPP0984                  50\n",
       "3    SUPP0574                  75\n",
       "4    SUPP0412                  75"
      ]
     },
     "execution_count": 10,
     "metadata": {},
     "output_type": "execute_result"
    }
   ],
   "source": [
    "def compute_quality_score(row):\n",
    "    score = 100\n",
    "    if not row['Email_Valid']: score -= 25\n",
    "    if pd.isna(row['VAT_Number']) or row['VAT_Number'] == '': score -= 25\n",
    "    if row['Compliance_RGPD'] == 'No': score -= 25\n",
    "    if row['Country'] not in [c[0] for c in countries]: score -= 25\n",
    "    return score\n",
    "\n",
    "# List of valid countries\n",
    "countries = [\n",
    "    \"France\", \"Italy\", \"Switzerland\", \"Germany\", \"Spain\",\n",
    "    \"United Kingdom\", \"United States\", \"China\", \"Japan\", \"India\", \"UAE\", \"Brazil\"\n",
    "]\n",
    "\n",
    "df['Data_Quality_Score'] = df.apply(compute_quality_score, axis=1)\n",
    "df[['Supplier_ID', 'Data_Quality_Score']].head()"
   ]
  },
  {
   "cell_type": "markdown",
   "id": "c8cc4296",
   "metadata": {},
   "source": [
    "## 4. Résumé global - Summary"
   ]
  },
  {
   "cell_type": "code",
   "execution_count": 12,
   "id": "32b158bf",
   "metadata": {},
   "outputs": [
    {
     "name": "stdout",
     "output_type": "stream",
     "text": [
      "Mean global score : 69.12621359223301\n"
     ]
    },
    {
     "data": {
      "image/png": "[encoded data removed]",
      "text/plain": [
       "<Figure size 640x480 with 1 Axes>"
      ]
     },
     "metadata": {},
     "output_type": "display_data"
    }
   ],
   "source": [
    "print(\"Mean global score :\", df['Data_Quality_Score'].mean())\n",
    "df['Data_Quality_Score'].plot.hist(title=\"Distribution of data quality scores\", bins=10);"
   ]
  }
 ],
 "metadata": {
  "kernelspec": {
   "display_name": "Python 3 (ipykernel)",
   "language": "python",
   "name": "python3"
  },
  "language_info": {
   "codemirror_mode": {
    "name": "ipython",
    "version": 3
   },
   "file_extension": ".py",
   "mimetype": "text/x-python",
   "name": "python",
   "nbconvert_exporter": "python",
   "pygments_lexer": "ipython3",
   "version": "3.9.13"
  }
 },
 "nbformat": 4,
 "nbformat_minor": 5
}
